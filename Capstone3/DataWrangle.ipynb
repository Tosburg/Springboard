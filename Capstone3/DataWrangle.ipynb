{
 "cells": [
  {
   "cell_type": "code",
   "execution_count": 1,
   "metadata": {},
   "outputs": [],
   "source": [
    "import numpy as np\n",
    "import pandas as pd"
   ]
  },
  {
   "cell_type": "code",
   "execution_count": 2,
   "metadata": {},
   "outputs": [],
   "source": [
    "df = pd.read_csv('Data/FAOSTAT_almonds.csv')"
   ]
  },
  {
   "cell_type": "code",
   "execution_count": 3,
   "metadata": {},
   "outputs": [
    {
     "data": {
      "text/html": [
       "<div>\n",
       "<style scoped>\n",
       "    .dataframe tbody tr th:only-of-type {\n",
       "        vertical-align: middle;\n",
       "    }\n",
       "\n",
       "    .dataframe tbody tr th {\n",
       "        vertical-align: top;\n",
       "    }\n",
       "\n",
       "    .dataframe thead th {\n",
       "        text-align: right;\n",
       "    }\n",
       "</style>\n",
       "<table border=\"1\" class=\"dataframe\">\n",
       "  <thead>\n",
       "    <tr style=\"text-align: right;\">\n",
       "      <th></th>\n",
       "      <th>Domain Code</th>\n",
       "      <th>Domain</th>\n",
       "      <th>Area Code</th>\n",
       "      <th>Area</th>\n",
       "      <th>Element Code</th>\n",
       "      <th>Element</th>\n",
       "      <th>Item Code</th>\n",
       "      <th>Item</th>\n",
       "      <th>Year Code</th>\n",
       "      <th>Year</th>\n",
       "      <th>Unit</th>\n",
       "      <th>Value</th>\n",
       "      <th>Flag</th>\n",
       "      <th>Flag Description</th>\n",
       "    </tr>\n",
       "  </thead>\n",
       "  <tbody>\n",
       "    <tr>\n",
       "      <th>0</th>\n",
       "      <td>QC</td>\n",
       "      <td>Crops</td>\n",
       "      <td>9</td>\n",
       "      <td>Argentina</td>\n",
       "      <td>5312</td>\n",
       "      <td>Area harvested</td>\n",
       "      <td>221</td>\n",
       "      <td>Almonds, with shell</td>\n",
       "      <td>2005</td>\n",
       "      <td>2005</td>\n",
       "      <td>ha</td>\n",
       "      <td>257.0</td>\n",
       "      <td>Im</td>\n",
       "      <td>FAO data based on imputation methodology</td>\n",
       "    </tr>\n",
       "    <tr>\n",
       "      <th>1</th>\n",
       "      <td>QC</td>\n",
       "      <td>Crops</td>\n",
       "      <td>9</td>\n",
       "      <td>Argentina</td>\n",
       "      <td>5312</td>\n",
       "      <td>Area harvested</td>\n",
       "      <td>221</td>\n",
       "      <td>Almonds, with shell</td>\n",
       "      <td>2006</td>\n",
       "      <td>2006</td>\n",
       "      <td>ha</td>\n",
       "      <td>260.0</td>\n",
       "      <td>F</td>\n",
       "      <td>FAO estimate</td>\n",
       "    </tr>\n",
       "    <tr>\n",
       "      <th>2</th>\n",
       "      <td>QC</td>\n",
       "      <td>Crops</td>\n",
       "      <td>9</td>\n",
       "      <td>Argentina</td>\n",
       "      <td>5312</td>\n",
       "      <td>Area harvested</td>\n",
       "      <td>221</td>\n",
       "      <td>Almonds, with shell</td>\n",
       "      <td>2007</td>\n",
       "      <td>2007</td>\n",
       "      <td>ha</td>\n",
       "      <td>270.0</td>\n",
       "      <td>F</td>\n",
       "      <td>FAO estimate</td>\n",
       "    </tr>\n",
       "    <tr>\n",
       "      <th>3</th>\n",
       "      <td>QC</td>\n",
       "      <td>Crops</td>\n",
       "      <td>9</td>\n",
       "      <td>Argentina</td>\n",
       "      <td>5312</td>\n",
       "      <td>Area harvested</td>\n",
       "      <td>221</td>\n",
       "      <td>Almonds, with shell</td>\n",
       "      <td>2008</td>\n",
       "      <td>2008</td>\n",
       "      <td>ha</td>\n",
       "      <td>283.0</td>\n",
       "      <td>Im</td>\n",
       "      <td>FAO data based on imputation methodology</td>\n",
       "    </tr>\n",
       "    <tr>\n",
       "      <th>4</th>\n",
       "      <td>QC</td>\n",
       "      <td>Crops</td>\n",
       "      <td>9</td>\n",
       "      <td>Argentina</td>\n",
       "      <td>5312</td>\n",
       "      <td>Area harvested</td>\n",
       "      <td>221</td>\n",
       "      <td>Almonds, with shell</td>\n",
       "      <td>2009</td>\n",
       "      <td>2009</td>\n",
       "      <td>ha</td>\n",
       "      <td>300.0</td>\n",
       "      <td>F</td>\n",
       "      <td>FAO estimate</td>\n",
       "    </tr>\n",
       "  </tbody>\n",
       "</table>\n",
       "</div>"
      ],
      "text/plain": [
       "  Domain Code Domain  Area Code       Area  Element Code         Element  \\\n",
       "0          QC  Crops          9  Argentina          5312  Area harvested   \n",
       "1          QC  Crops          9  Argentina          5312  Area harvested   \n",
       "2          QC  Crops          9  Argentina          5312  Area harvested   \n",
       "3          QC  Crops          9  Argentina          5312  Area harvested   \n",
       "4          QC  Crops          9  Argentina          5312  Area harvested   \n",
       "\n",
       "   Item Code                 Item  Year Code  Year Unit  Value Flag  \\\n",
       "0        221  Almonds, with shell       2005  2005   ha  257.0   Im   \n",
       "1        221  Almonds, with shell       2006  2006   ha  260.0    F   \n",
       "2        221  Almonds, with shell       2007  2007   ha  270.0    F   \n",
       "3        221  Almonds, with shell       2008  2008   ha  283.0   Im   \n",
       "4        221  Almonds, with shell       2009  2009   ha  300.0    F   \n",
       "\n",
       "                           Flag Description  \n",
       "0  FAO data based on imputation methodology  \n",
       "1                              FAO estimate  \n",
       "2                              FAO estimate  \n",
       "3  FAO data based on imputation methodology  \n",
       "4                              FAO estimate  "
      ]
     },
     "execution_count": 3,
     "metadata": {},
     "output_type": "execute_result"
    }
   ],
   "source": [
    "df.head()"
   ]
  },
  {
   "cell_type": "code",
   "execution_count": 4,
   "metadata": {},
   "outputs": [
    {
     "data": {
      "text/plain": [
       "array(['Area harvested', 'Yield', 'Production'], dtype=object)"
      ]
     },
     "execution_count": 4,
     "metadata": {},
     "output_type": "execute_result"
    }
   ],
   "source": [
    "df['Element'].unique()"
   ]
  },
  {
   "cell_type": "code",
   "execution_count": 5,
   "metadata": {},
   "outputs": [],
   "source": [
    "Almonds_Area = df[df['Element'] == 'Area harvested']\n",
    "Almonds_Yield = df[df['Element'] == 'Yield']\n",
    "Almonds_Prod = df[df['Element'] == 'Production']"
   ]
  },
  {
   "cell_type": "code",
   "execution_count": 6,
   "metadata": {},
   "outputs": [],
   "source": [
    "Almonds = Almonds_Area.merge(Almonds_Yield, \n",
    "                             left_on=['Area Code','Year'], \n",
    "                             right_on = ['Area Code','Year'], \n",
    "                             how='left',\n",
    "                             suffixes=('_Area','_Yield'))"
   ]
  },
  {
   "cell_type": "code",
   "execution_count": 7,
   "metadata": {},
   "outputs": [],
   "source": [
    "Almonds = Almonds.merge(Almonds_Prod, \n",
    "                             left_on=['Area Code','Year'], \n",
    "                             right_on = ['Area Code','Year'], \n",
    "                             how='left')"
   ]
  },
  {
   "cell_type": "code",
   "execution_count": 8,
   "metadata": {},
   "outputs": [
    {
     "data": {
      "text/plain": [
       "Index(['Domain Code_Area', 'Domain_Area', 'Area Code', 'Area_Area',\n",
       "       'Element Code_Area', 'Element_Area', 'Item Code_Area', 'Item_Area',\n",
       "       'Year Code_Area', 'Year', 'Unit_Area', 'Value_Area', 'Flag_Area',\n",
       "       'Flag Description_Area', 'Domain Code_Yield', 'Domain_Yield',\n",
       "       'Area_Yield', 'Element Code_Yield', 'Element_Yield', 'Item Code_Yield',\n",
       "       'Item_Yield', 'Year Code_Yield', 'Unit_Yield', 'Value_Yield',\n",
       "       'Flag_Yield', 'Flag Description_Yield', 'Domain Code', 'Domain', 'Area',\n",
       "       'Element Code', 'Element', 'Item Code', 'Item', 'Year Code', 'Unit',\n",
       "       'Value', 'Flag', 'Flag Description'],\n",
       "      dtype='object')"
      ]
     },
     "execution_count": 8,
     "metadata": {},
     "output_type": "execute_result"
    }
   ],
   "source": [
    "Almonds.columns"
   ]
  },
  {
   "cell_type": "code",
   "execution_count": 9,
   "metadata": {},
   "outputs": [
    {
     "data": {
      "text/plain": [
       "Domain Code_Area           0\n",
       "Domain_Area                0\n",
       "Area Code                  0\n",
       "Area_Area                  0\n",
       "Element Code_Area          0\n",
       "Element_Area               0\n",
       "Item Code_Area             0\n",
       "Item_Area                  0\n",
       "Year Code_Area             0\n",
       "Year                       0\n",
       "Unit_Area                  0\n",
       "Value_Area                22\n",
       "Flag_Area                 22\n",
       "Flag Description_Area      0\n",
       "Domain Code_Yield         22\n",
       "Domain_Yield              22\n",
       "Area_Yield                22\n",
       "Element Code_Yield        22\n",
       "Element_Yield             22\n",
       "Item Code_Yield           22\n",
       "Item_Yield                22\n",
       "Year Code_Yield           22\n",
       "Unit_Yield                22\n",
       "Value_Yield               22\n",
       "Flag_Yield                22\n",
       "Flag Description_Yield    22\n",
       "Domain Code                0\n",
       "Domain                     0\n",
       "Area                       0\n",
       "Element Code               0\n",
       "Element                    0\n",
       "Item Code                  0\n",
       "Item                       0\n",
       "Year Code                  0\n",
       "Unit                       0\n",
       "Value                     22\n",
       "Flag                      13\n",
       "Flag Description           0\n",
       "dtype: int64"
      ]
     },
     "execution_count": 9,
     "metadata": {},
     "output_type": "execute_result"
    }
   ],
   "source": [
    "Almonds.isnull().sum()"
   ]
  },
  {
   "cell_type": "code",
   "execution_count": 10,
   "metadata": {},
   "outputs": [],
   "source": [
    "Almonds = Almonds.drop(columns=['Flag Description',\n",
    "                                'Flag',\n",
    "                                'Flag Description_Yield',\n",
    "                                'Flag_Yield',\n",
    "                                'Flag Description_Area',\n",
    "                                'Flag_Area',\n",
    "                                'Year Code',\n",
    "                                'Item',\n",
    "                                'Item Code',\n",
    "                                'Area','Domain',\n",
    "                                'Domain Code',\n",
    "                                'Year Code_Yield',\n",
    "                                'Item_Yield',\n",
    "                                'Item Code_Yield',\n",
    "                                'Element_Yield',\n",
    "                                'Area_Yield',\n",
    "                                'Domain_Yield',\n",
    "                                'Domain Code_Yield',\n",
    "                                'Year Code_Area',\n",
    "                                'Domain Code_Area',\n",
    "                                'Domain_Area',\n",
    "                                'Element Code_Area',\n",
    "                                'Element Code_Yield',\n",
    "                                'Element Code',\n",
    "                                'Element',\n",
    "                                'Element_Area'], axis=1)"
   ]
  },
  {
   "cell_type": "code",
   "execution_count": 11,
   "metadata": {},
   "outputs": [
    {
     "data": {
      "text/plain": [
       "Index(['Area Code', 'Area_Area', 'Item Code_Area', 'Item_Area', 'Year',\n",
       "       'Unit_Area', 'Value_Area', 'Unit_Yield', 'Value_Yield', 'Unit',\n",
       "       'Value'],\n",
       "      dtype='object')"
      ]
     },
     "execution_count": 11,
     "metadata": {},
     "output_type": "execute_result"
    }
   ],
   "source": [
    "Almonds.columns"
   ]
  },
  {
   "cell_type": "code",
   "execution_count": 12,
   "metadata": {},
   "outputs": [
    {
     "data": {
      "text/html": [
       "<div>\n",
       "<style scoped>\n",
       "    .dataframe tbody tr th:only-of-type {\n",
       "        vertical-align: middle;\n",
       "    }\n",
       "\n",
       "    .dataframe tbody tr th {\n",
       "        vertical-align: top;\n",
       "    }\n",
       "\n",
       "    .dataframe thead th {\n",
       "        text-align: right;\n",
       "    }\n",
       "</style>\n",
       "<table border=\"1\" class=\"dataframe\">\n",
       "  <thead>\n",
       "    <tr style=\"text-align: right;\">\n",
       "      <th></th>\n",
       "      <th>Area Code</th>\n",
       "      <th>Area_Area</th>\n",
       "      <th>Item Code_Area</th>\n",
       "      <th>Item_Area</th>\n",
       "      <th>Year</th>\n",
       "      <th>Unit_Area</th>\n",
       "      <th>Value_Area</th>\n",
       "      <th>Unit_Yield</th>\n",
       "      <th>Value_Yield</th>\n",
       "      <th>Unit</th>\n",
       "      <th>Value</th>\n",
       "    </tr>\n",
       "  </thead>\n",
       "  <tbody>\n",
       "    <tr>\n",
       "      <th>0</th>\n",
       "      <td>9</td>\n",
       "      <td>Argentina</td>\n",
       "      <td>221</td>\n",
       "      <td>Almonds, with shell</td>\n",
       "      <td>2005</td>\n",
       "      <td>ha</td>\n",
       "      <td>257.0</td>\n",
       "      <td>hg/ha</td>\n",
       "      <td>19027.0</td>\n",
       "      <td>tonnes</td>\n",
       "      <td>489.0</td>\n",
       "    </tr>\n",
       "    <tr>\n",
       "      <th>1</th>\n",
       "      <td>9</td>\n",
       "      <td>Argentina</td>\n",
       "      <td>221</td>\n",
       "      <td>Almonds, with shell</td>\n",
       "      <td>2006</td>\n",
       "      <td>ha</td>\n",
       "      <td>260.0</td>\n",
       "      <td>hg/ha</td>\n",
       "      <td>18846.0</td>\n",
       "      <td>tonnes</td>\n",
       "      <td>490.0</td>\n",
       "    </tr>\n",
       "    <tr>\n",
       "      <th>2</th>\n",
       "      <td>9</td>\n",
       "      <td>Argentina</td>\n",
       "      <td>221</td>\n",
       "      <td>Almonds, with shell</td>\n",
       "      <td>2007</td>\n",
       "      <td>ha</td>\n",
       "      <td>270.0</td>\n",
       "      <td>hg/ha</td>\n",
       "      <td>18519.0</td>\n",
       "      <td>tonnes</td>\n",
       "      <td>500.0</td>\n",
       "    </tr>\n",
       "    <tr>\n",
       "      <th>3</th>\n",
       "      <td>9</td>\n",
       "      <td>Argentina</td>\n",
       "      <td>221</td>\n",
       "      <td>Almonds, with shell</td>\n",
       "      <td>2008</td>\n",
       "      <td>ha</td>\n",
       "      <td>283.0</td>\n",
       "      <td>hg/ha</td>\n",
       "      <td>19011.0</td>\n",
       "      <td>tonnes</td>\n",
       "      <td>538.0</td>\n",
       "    </tr>\n",
       "    <tr>\n",
       "      <th>4</th>\n",
       "      <td>9</td>\n",
       "      <td>Argentina</td>\n",
       "      <td>221</td>\n",
       "      <td>Almonds, with shell</td>\n",
       "      <td>2009</td>\n",
       "      <td>ha</td>\n",
       "      <td>300.0</td>\n",
       "      <td>hg/ha</td>\n",
       "      <td>19233.0</td>\n",
       "      <td>tonnes</td>\n",
       "      <td>577.0</td>\n",
       "    </tr>\n",
       "  </tbody>\n",
       "</table>\n",
       "</div>"
      ],
      "text/plain": [
       "   Area Code  Area_Area  Item Code_Area            Item_Area  Year Unit_Area  \\\n",
       "0          9  Argentina             221  Almonds, with shell  2005        ha   \n",
       "1          9  Argentina             221  Almonds, with shell  2006        ha   \n",
       "2          9  Argentina             221  Almonds, with shell  2007        ha   \n",
       "3          9  Argentina             221  Almonds, with shell  2008        ha   \n",
       "4          9  Argentina             221  Almonds, with shell  2009        ha   \n",
       "\n",
       "   Value_Area Unit_Yield  Value_Yield    Unit  Value  \n",
       "0       257.0      hg/ha      19027.0  tonnes  489.0  \n",
       "1       260.0      hg/ha      18846.0  tonnes  490.0  \n",
       "2       270.0      hg/ha      18519.0  tonnes  500.0  \n",
       "3       283.0      hg/ha      19011.0  tonnes  538.0  \n",
       "4       300.0      hg/ha      19233.0  tonnes  577.0  "
      ]
     },
     "execution_count": 12,
     "metadata": {},
     "output_type": "execute_result"
    }
   ],
   "source": [
    "Almonds.head()"
   ]
  },
  {
   "cell_type": "code",
   "execution_count": 13,
   "metadata": {},
   "outputs": [],
   "source": [
    "Almonds.rename(columns={'Area_Area':'Area',\n",
    "                        'Item Code_Area':'Item_Code',\n",
    "                        'Item_Area':'Item',\n",
    "                        'Value_Area':'Almond_Area',\n",
    "                        'Value_Yield':'Almond_Yield',\n",
    "                        'Unit':'Unit_Prod',\n",
    "                        'Value':'Almond_Prod'},inplace=True)"
   ]
  },
  {
   "cell_type": "code",
   "execution_count": 14,
   "metadata": {},
   "outputs": [],
   "source": [
    "Almonds.to_csv('Data/Almonds.csv',index=False)"
   ]
  },
  {
   "cell_type": "code",
   "execution_count": 15,
   "metadata": {},
   "outputs": [],
   "source": [
    "df = pd.read_csv('Data/FAOSTAT_apples.csv')"
   ]
  },
  {
   "cell_type": "code",
   "execution_count": 16,
   "metadata": {},
   "outputs": [],
   "source": [
    "Apples_Area = df[df['Element'] == 'Area harvested']\n",
    "Apples_Yield = df[df['Element'] == 'Yield']\n",
    "Apples_Prod = df[df['Element'] == 'Production']"
   ]
  },
  {
   "cell_type": "code",
   "execution_count": 17,
   "metadata": {},
   "outputs": [],
   "source": [
    "Apples = Apples_Area.merge(Apples_Yield, \n",
    "                             left_on=['Area Code','Year'], \n",
    "                             right_on = ['Area Code','Year'], \n",
    "                             how='left',\n",
    "                             suffixes=('_Area','_Yield'))"
   ]
  },
  {
   "cell_type": "code",
   "execution_count": 18,
   "metadata": {},
   "outputs": [],
   "source": [
    "Apples = Apples.merge(Apples_Prod, \n",
    "                             left_on=['Area Code','Year'], \n",
    "                             right_on = ['Area Code','Year'], \n",
    "                             how='left')"
   ]
  },
  {
   "cell_type": "code",
   "execution_count": 19,
   "metadata": {},
   "outputs": [],
   "source": [
    "Apples = Apples.drop(columns=['Flag Description',\n",
    "                                'Flag',\n",
    "                                'Flag Description_Yield',\n",
    "                                'Flag_Yield',\n",
    "                                'Flag Description_Area',\n",
    "                                'Flag_Area',\n",
    "                                'Year Code',\n",
    "                                'Item',\n",
    "                                'Item Code',\n",
    "                                'Area','Domain',\n",
    "                                'Domain Code',\n",
    "                                'Year Code_Yield',\n",
    "                                'Item_Yield',\n",
    "                                'Item Code_Yield',\n",
    "                                'Element_Yield',\n",
    "                                'Area_Yield',\n",
    "                                'Domain_Yield',\n",
    "                                'Domain Code_Yield',\n",
    "                                'Year Code_Area',\n",
    "                                'Domain Code_Area',\n",
    "                                'Domain_Area',\n",
    "                                'Element Code_Area',\n",
    "                                'Element Code_Yield',\n",
    "                                'Element Code',\n",
    "                                'Element',\n",
    "                                'Element_Area'], axis=1)"
   ]
  },
  {
   "cell_type": "code",
   "execution_count": 20,
   "metadata": {},
   "outputs": [],
   "source": [
    "Apples.rename(columns={'Area_Area':'Area',\n",
    "                       'Item Code_Area':'Item_Code',\n",
    "                       'Item_Area':'Item',\n",
    "                       'Value_Area':'Apples_Area',\n",
    "                       'Value_Yield':'Apples_Yield',\n",
    "                       'Unit':'Unit_Prod',\n",
    "                       'Value':'Apples_Prod'},inplace=True)"
   ]
  },
  {
   "cell_type": "code",
   "execution_count": 21,
   "metadata": {},
   "outputs": [],
   "source": [
    "Apples.to_csv('Data/Apples.csv',index=False)"
   ]
  },
  {
   "cell_type": "code",
   "execution_count": 22,
   "metadata": {},
   "outputs": [],
   "source": [
    "df = pd.read_csv('Data/FAOSTAT_apricots.csv')"
   ]
  },
  {
   "cell_type": "code",
   "execution_count": 23,
   "metadata": {},
   "outputs": [],
   "source": [
    "Apricots_Area = df[df['Element'] == 'Area harvested']\n",
    "Apricots_Yield = df[df['Element'] == 'Yield']\n",
    "Apricots_Prod = df[df['Element'] == 'Production']"
   ]
  },
  {
   "cell_type": "code",
   "execution_count": 24,
   "metadata": {},
   "outputs": [],
   "source": [
    "Apricots = Apricots_Area.merge(Apricots_Yield, \n",
    "                             left_on=['Area Code','Year'], \n",
    "                             right_on = ['Area Code','Year'], \n",
    "                             how='left',\n",
    "                             suffixes=('_Area','_Yield'))"
   ]
  },
  {
   "cell_type": "code",
   "execution_count": 25,
   "metadata": {},
   "outputs": [],
   "source": [
    "Apricots = Apricots.merge(Apricots_Prod, \n",
    "                             left_on=['Area Code','Year'], \n",
    "                             right_on = ['Area Code','Year'], \n",
    "                             how='left')"
   ]
  },
  {
   "cell_type": "code",
   "execution_count": 26,
   "metadata": {},
   "outputs": [],
   "source": [
    "Apricots = Apricots.drop(columns=['Flag Description',\n",
    "                                'Flag',\n",
    "                                'Flag Description_Yield',\n",
    "                                'Flag_Yield',\n",
    "                                'Flag Description_Area',\n",
    "                                'Flag_Area',\n",
    "                                'Year Code',\n",
    "                                'Item',\n",
    "                                'Item Code',\n",
    "                                'Area','Domain',\n",
    "                                'Domain Code',\n",
    "                                'Year Code_Yield',\n",
    "                                'Item_Yield',\n",
    "                                'Item Code_Yield',\n",
    "                                'Element_Yield',\n",
    "                                'Area_Yield',\n",
    "                                'Domain_Yield',\n",
    "                                'Domain Code_Yield',\n",
    "                                'Year Code_Area',\n",
    "                                'Domain Code_Area',\n",
    "                                'Domain_Area',\n",
    "                                'Element Code_Area',\n",
    "                                'Element Code_Yield',\n",
    "                                'Element Code',\n",
    "                                'Element',\n",
    "                                'Element_Area'], axis=1)"
   ]
  },
  {
   "cell_type": "code",
   "execution_count": 27,
   "metadata": {},
   "outputs": [],
   "source": [
    "Apricots.rename(columns={'Area_Area':'Area',\n",
    "                        'Item Code_Area':'Item_Code',\n",
    "                        'Item_Area':'Item',\n",
    "                         'Value_Area':'Apricots_Area',\n",
    "                         'Value_Yield':'Apricots_Yield',\n",
    "                        'Unit':'Unit_Prod',\n",
    "                        'Value':'Apricots_Prod'},inplace=True)"
   ]
  },
  {
   "cell_type": "code",
   "execution_count": 28,
   "metadata": {},
   "outputs": [],
   "source": [
    "Apricots.to_csv('Data/Apricots.csv',index=False)"
   ]
  },
  {
   "cell_type": "code",
   "execution_count": 29,
   "metadata": {},
   "outputs": [],
   "source": [
    "df = pd.read_csv('Data/FAOSTAT_avocados.csv')"
   ]
  },
  {
   "cell_type": "code",
   "execution_count": 30,
   "metadata": {},
   "outputs": [],
   "source": [
    "Avocados_Area = df[df['Element'] == 'Area harvested']\n",
    "Avocados_Yield = df[df['Element'] == 'Yield']\n",
    "Avocados_Prod = df[df['Element'] == 'Production']"
   ]
  },
  {
   "cell_type": "code",
   "execution_count": 31,
   "metadata": {},
   "outputs": [],
   "source": [
    "Avocados = Avocados_Area.merge(Avocados_Yield, \n",
    "                             left_on=['Area Code','Year'], \n",
    "                             right_on = ['Area Code','Year'], \n",
    "                             how='left',\n",
    "                             suffixes=('_Area','_Yield'))"
   ]
  },
  {
   "cell_type": "code",
   "execution_count": 32,
   "metadata": {},
   "outputs": [],
   "source": [
    "Avocados = Avocados.merge(Avocados_Prod, \n",
    "                             left_on=['Area Code','Year'], \n",
    "                             right_on = ['Area Code','Year'], \n",
    "                             how='left')"
   ]
  },
  {
   "cell_type": "code",
   "execution_count": 33,
   "metadata": {},
   "outputs": [],
   "source": [
    "Avocados = Avocados.drop(columns=['Flag Description',\n",
    "                                'Flag',\n",
    "                                'Flag Description_Yield',\n",
    "                                'Flag_Yield',\n",
    "                                'Flag Description_Area',\n",
    "                                'Flag_Area',\n",
    "                                'Year Code',\n",
    "                                'Item',\n",
    "                                'Item Code',\n",
    "                                'Area','Domain',\n",
    "                                'Domain Code',\n",
    "                                'Year Code_Yield',\n",
    "                                'Item_Yield',\n",
    "                                'Item Code_Yield',\n",
    "                                'Element_Yield',\n",
    "                                'Area_Yield',\n",
    "                                'Domain_Yield',\n",
    "                                'Domain Code_Yield',\n",
    "                                'Year Code_Area',\n",
    "                                'Domain Code_Area',\n",
    "                                'Domain_Area',\n",
    "                                'Element Code_Area',\n",
    "                                'Element Code_Yield',\n",
    "                                'Element Code',\n",
    "                                'Element',\n",
    "                                'Element_Area'], axis=1)"
   ]
  },
  {
   "cell_type": "code",
   "execution_count": 35,
   "metadata": {},
   "outputs": [],
   "source": [
    "Avocados.rename(columns={'Area_Area':'Area',\n",
    "                        'Item Code_Area':'Item_Code',\n",
    "                        'Item_Area':'Item',\n",
    "                         'Value_Area':'Avocados_Area',\n",
    "                         'Value_Yield':'Avocados_Yield',\n",
    "                        'Unit':'Unit_Prod',\n",
    "                        'Value':'Avocados_Prod'},inplace=True)"
   ]
  },
  {
   "cell_type": "code",
   "execution_count": 36,
   "metadata": {},
   "outputs": [],
   "source": [
    "Avocados.to_csv('Data/Avocados.csv',index=False)"
   ]
  },
  {
   "cell_type": "code",
   "execution_count": 37,
   "metadata": {},
   "outputs": [],
   "source": [
    "df = pd.read_csv('Data/FAOSTAT_bananas.csv')"
   ]
  },
  {
   "cell_type": "code",
   "execution_count": 38,
   "metadata": {},
   "outputs": [],
   "source": [
    "Bananas_Area = df[df['Element'] == 'Area harvested']\n",
    "Bananas_Yield = df[df['Element'] == 'Yield']\n",
    "Bananas_Prod = df[df['Element'] == 'Production']"
   ]
  },
  {
   "cell_type": "code",
   "execution_count": 39,
   "metadata": {},
   "outputs": [],
   "source": [
    "Bananas = Bananas_Area.merge(Bananas_Yield, \n",
    "                             left_on=['Area Code','Year'], \n",
    "                             right_on = ['Area Code','Year'], \n",
    "                             how='left',\n",
    "                             suffixes=('_Area','_Yield'))"
   ]
  },
  {
   "cell_type": "code",
   "execution_count": 40,
   "metadata": {},
   "outputs": [],
   "source": [
    "Bananas = Bananas.merge(Bananas_Prod, \n",
    "                             left_on=['Area Code','Year'], \n",
    "                             right_on = ['Area Code','Year'], \n",
    "                             how='left')"
   ]
  },
  {
   "cell_type": "code",
   "execution_count": 41,
   "metadata": {},
   "outputs": [],
   "source": [
    "Bananas = Bananas.drop(columns=['Flag Description',\n",
    "                                'Flag',\n",
    "                                'Flag Description_Yield',\n",
    "                                'Flag_Yield',\n",
    "                                'Flag Description_Area',\n",
    "                                'Flag_Area',\n",
    "                                'Year Code',\n",
    "                                'Item',\n",
    "                                'Item Code',\n",
    "                                'Area','Domain',\n",
    "                                'Domain Code',\n",
    "                                'Year Code_Yield',\n",
    "                                'Item_Yield',\n",
    "                                'Item Code_Yield',\n",
    "                                'Element_Yield',\n",
    "                                'Area_Yield',\n",
    "                                'Domain_Yield',\n",
    "                                'Domain Code_Yield',\n",
    "                                'Year Code_Area',\n",
    "                                'Domain Code_Area',\n",
    "                                'Domain_Area',\n",
    "                                'Element Code_Area',\n",
    "                                'Element Code_Yield',\n",
    "                                'Element Code',\n",
    "                                'Element',\n",
    "                                'Element_Area'], axis=1)"
   ]
  },
  {
   "cell_type": "code",
   "execution_count": 42,
   "metadata": {},
   "outputs": [],
   "source": [
    "Bananas.rename(columns={'Area_Area':'Area',\n",
    "                        'Item Code_Area':'Item_Code',\n",
    "                        'Item_Area':'Item',\n",
    "                        'Value_Area':'Bananas_Area',\n",
    "                        'Value_Yield':'Bananas_Yield',\n",
    "                        'Unit':'Unit_Prod',\n",
    "                        'Value':'Bananas_Prod'},inplace=True)"
   ]
  },
  {
   "cell_type": "code",
   "execution_count": 43,
   "metadata": {},
   "outputs": [],
   "source": [
    "Bananas.to_csv('Data/Bananas.csv',index=False)"
   ]
  },
  {
   "cell_type": "code",
   "execution_count": 44,
   "metadata": {},
   "outputs": [],
   "source": [
    "df = pd.read_csv('Data/FAOSTAT_blueberries.csv')"
   ]
  },
  {
   "cell_type": "code",
   "execution_count": 45,
   "metadata": {},
   "outputs": [],
   "source": [
    "Blueberries_Area = df[df['Element'] == 'Area harvested']\n",
    "Blueberries_Yield = df[df['Element'] == 'Yield']\n",
    "Blueberries_Prod = df[df['Element'] == 'Production']"
   ]
  },
  {
   "cell_type": "code",
   "execution_count": 46,
   "metadata": {},
   "outputs": [],
   "source": [
    "Blueberries = Blueberries_Area.merge(Blueberries_Yield, \n",
    "                             left_on=['Area Code','Year'], \n",
    "                             right_on = ['Area Code','Year'], \n",
    "                             how='left',\n",
    "                             suffixes=('_Area','_Yield'))"
   ]
  },
  {
   "cell_type": "code",
   "execution_count": 47,
   "metadata": {},
   "outputs": [],
   "source": [
    "Blueberries = Blueberries.merge(Blueberries_Prod, \n",
    "                             left_on=['Area Code','Year'], \n",
    "                             right_on = ['Area Code','Year'], \n",
    "                             how='left')"
   ]
  },
  {
   "cell_type": "code",
   "execution_count": 48,
   "metadata": {},
   "outputs": [],
   "source": [
    "Blueberries = Blueberries.drop(columns=['Flag Description',\n",
    "                                'Flag',\n",
    "                                'Flag Description_Yield',\n",
    "                                'Flag_Yield',\n",
    "                                'Flag Description_Area',\n",
    "                                'Flag_Area',\n",
    "                                'Year Code',\n",
    "                                'Item',\n",
    "                                'Item Code',\n",
    "                                'Area','Domain',\n",
    "                                'Domain Code',\n",
    "                                'Year Code_Yield',\n",
    "                                'Item_Yield',\n",
    "                                'Item Code_Yield',\n",
    "                                'Element_Yield',\n",
    "                                'Area_Yield',\n",
    "                                'Domain_Yield',\n",
    "                                'Domain Code_Yield',\n",
    "                                'Year Code_Area',\n",
    "                                'Domain Code_Area',\n",
    "                                'Domain_Area',\n",
    "                                'Element Code_Area',\n",
    "                                'Element Code_Yield',\n",
    "                                'Element Code',\n",
    "                                'Element',\n",
    "                                'Element_Area'], axis=1)"
   ]
  },
  {
   "cell_type": "code",
   "execution_count": 50,
   "metadata": {},
   "outputs": [],
   "source": [
    "Blueberries.rename(columns={'Area_Area':'Area',\n",
    "                        'Item Code_Area':'Item_Code',\n",
    "                        'Item_Area':'Item',\n",
    "                            'Value_Area':'Blueberries_Area',\n",
    "                            'Value_Yield':'Blueberries_Yield',\n",
    "                        'Unit':'Unit_Prod',\n",
    "                        'Value':'Blueberries_Prod'},inplace=True)"
   ]
  },
  {
   "cell_type": "code",
   "execution_count": 51,
   "metadata": {},
   "outputs": [],
   "source": [
    "Blueberries.to_csv('Data/Blueberries.csv',index=False)"
   ]
  },
  {
   "cell_type": "code",
   "execution_count": 52,
   "metadata": {},
   "outputs": [],
   "source": [
    "df = pd.read_csv('Data/FAOSTAT_cherries.csv')"
   ]
  },
  {
   "cell_type": "code",
   "execution_count": 53,
   "metadata": {},
   "outputs": [],
   "source": [
    "Cherries_Area = df[df['Element'] == 'Area harvested']\n",
    "Cherries_Yield = df[df['Element'] == 'Yield']\n",
    "Cherries_Prod = df[df['Element'] == 'Production']"
   ]
  },
  {
   "cell_type": "code",
   "execution_count": 54,
   "metadata": {},
   "outputs": [],
   "source": [
    "Cherries = Cherries_Area.merge(Cherries_Yield, \n",
    "                             left_on=['Area Code','Year'], \n",
    "                             right_on = ['Area Code','Year'], \n",
    "                             how='left',\n",
    "                             suffixes=('_Area','_Yield'))"
   ]
  },
  {
   "cell_type": "code",
   "execution_count": 55,
   "metadata": {},
   "outputs": [],
   "source": [
    "Cherries = Cherries.merge(Cherries_Prod, \n",
    "                             left_on=['Area Code','Year'], \n",
    "                             right_on = ['Area Code','Year'], \n",
    "                             how='left')"
   ]
  },
  {
   "cell_type": "code",
   "execution_count": 56,
   "metadata": {},
   "outputs": [],
   "source": [
    "Cherries = Cherries.drop(columns=['Flag Description',\n",
    "                                'Flag',\n",
    "                                'Flag Description_Yield',\n",
    "                                'Flag_Yield',\n",
    "                                'Flag Description_Area',\n",
    "                                'Flag_Area',\n",
    "                                'Year Code',\n",
    "                                'Item',\n",
    "                                'Item Code',\n",
    "                                'Area','Domain',\n",
    "                                'Domain Code',\n",
    "                                'Year Code_Yield',\n",
    "                                'Item_Yield',\n",
    "                                'Item Code_Yield',\n",
    "                                'Element_Yield',\n",
    "                                'Area_Yield',\n",
    "                                'Domain_Yield',\n",
    "                                'Domain Code_Yield',\n",
    "                                'Year Code_Area',\n",
    "                                'Domain Code_Area',\n",
    "                                'Domain_Area',\n",
    "                                'Element Code_Area',\n",
    "                                'Element Code_Yield',\n",
    "                                'Element Code',\n",
    "                                'Element',\n",
    "                                'Element_Area'], axis=1)"
   ]
  },
  {
   "cell_type": "code",
   "execution_count": 58,
   "metadata": {},
   "outputs": [],
   "source": [
    "Cherries.rename(columns={'Area_Area':'Area',\n",
    "                        'Item Code_Area':'Item_Code',\n",
    "                        'Item_Area':'Item',\n",
    "                         'Value_Area':'Cherries_Area',\n",
    "                         'Value_Yield':'Cherries_Yield',\n",
    "                        'Unit':'Unit_Prod',\n",
    "                        'Value':'Cherries_Prod'},inplace=True)"
   ]
  },
  {
   "cell_type": "code",
   "execution_count": 59,
   "metadata": {},
   "outputs": [],
   "source": [
    "Cherries.to_csv('Data/Cherries.csv',index=False)"
   ]
  },
  {
   "cell_type": "code",
   "execution_count": 64,
   "metadata": {},
   "outputs": [],
   "source": [
    "df = pd.read_csv('Data/FAOSTAT_total_Nitrogen.csv')"
   ]
  },
  {
   "cell_type": "code",
   "execution_count": 65,
   "metadata": {},
   "outputs": [],
   "source": [
    "Nitrogen = df.drop(columns=['Domain Code','Domain','Element Code','Element','Year Code','Flag','Flag Description'])\n",
    "Nitrogen.rename(columns={'Item Code':'Item_Code','Value':'Nitrogen_Prod'},inplace=True)\n",
    "Nitrogen.to_csv('Data/Nitrogen.csv',index=False)"
   ]
  },
  {
   "cell_type": "code",
   "execution_count": 66,
   "metadata": {},
   "outputs": [],
   "source": [
    "df = pd.read_csv('Data/FAOSTAT_total_Phosphate.csv')"
   ]
  },
  {
   "cell_type": "code",
   "execution_count": 67,
   "metadata": {},
   "outputs": [],
   "source": [
    "Phosphate = df.drop(columns=['Domain Code','Domain','Element Code','Element','Year Code','Flag','Flag Description'])\n",
    "Phosphate.rename(columns={'Item Code':'Item_Code','Value':'Phosphate_Prod'},inplace=True)\n",
    "Phosphate.to_csv('Data/Phosphate.csv',index=False)"
   ]
  },
  {
   "cell_type": "code",
   "execution_count": null,
   "metadata": {},
   "outputs": [],
   "source": []
  }
 ],
 "metadata": {
  "kernelspec": {
   "display_name": "Python 3",
   "language": "python",
   "name": "python3"
  },
  "language_info": {
   "codemirror_mode": {
    "name": "ipython",
    "version": 3
   },
   "file_extension": ".py",
   "mimetype": "text/x-python",
   "name": "python",
   "nbconvert_exporter": "python",
   "pygments_lexer": "ipython3",
   "version": "3.7.4"
  }
 },
 "nbformat": 4,
 "nbformat_minor": 2
}
