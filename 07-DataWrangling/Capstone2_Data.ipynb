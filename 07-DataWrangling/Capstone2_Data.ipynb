{
 "cells": [
  {
   "cell_type": "code",
   "execution_count": 2,
   "metadata": {},
   "outputs": [],
   "source": [
    "# importing libraries for data exploration\n",
    "import numpy as np\n",
    "import pandas as pd"
   ]
  },
  {
   "cell_type": "markdown",
   "metadata": {},
   "source": [
    "Initial import of dataset."
   ]
  },
  {
   "cell_type": "code",
   "execution_count": 19,
   "metadata": {},
   "outputs": [
    {
     "data": {
      "text/html": [
       "<div>\n",
       "<style scoped>\n",
       "    .dataframe tbody tr th:only-of-type {\n",
       "        vertical-align: middle;\n",
       "    }\n",
       "\n",
       "    .dataframe tbody tr th {\n",
       "        vertical-align: top;\n",
       "    }\n",
       "\n",
       "    .dataframe thead th {\n",
       "        text-align: right;\n",
       "    }\n",
       "</style>\n",
       "<table border=\"1\" class=\"dataframe\">\n",
       "  <thead>\n",
       "    <tr style=\"text-align: right;\">\n",
       "      <th></th>\n",
       "      <th>latitude</th>\n",
       "      <th>longitude</th>\n",
       "      <th>brightness</th>\n",
       "      <th>scan</th>\n",
       "      <th>track</th>\n",
       "      <th>acq_date</th>\n",
       "      <th>acq_time</th>\n",
       "      <th>satellite</th>\n",
       "      <th>instrument</th>\n",
       "      <th>confidence</th>\n",
       "      <th>version</th>\n",
       "      <th>bright_t31</th>\n",
       "      <th>frp</th>\n",
       "      <th>daynight</th>\n",
       "      <th>type</th>\n",
       "    </tr>\n",
       "  </thead>\n",
       "  <tbody>\n",
       "    <tr>\n",
       "      <th>0</th>\n",
       "      <td>19.3827</td>\n",
       "      <td>-155.0442</td>\n",
       "      <td>307.0</td>\n",
       "      <td>1.0</td>\n",
       "      <td>1.0</td>\n",
       "      <td>2010-01-01</td>\n",
       "      <td>842</td>\n",
       "      <td>Terra</td>\n",
       "      <td>MODIS</td>\n",
       "      <td>70</td>\n",
       "      <td>6.2</td>\n",
       "      <td>291.2</td>\n",
       "      <td>8.3</td>\n",
       "      <td>N</td>\n",
       "      <td>2</td>\n",
       "    </tr>\n",
       "    <tr>\n",
       "      <th>1</th>\n",
       "      <td>19.3814</td>\n",
       "      <td>-155.0539</td>\n",
       "      <td>319.8</td>\n",
       "      <td>1.0</td>\n",
       "      <td>1.0</td>\n",
       "      <td>2010-01-01</td>\n",
       "      <td>842</td>\n",
       "      <td>Terra</td>\n",
       "      <td>MODIS</td>\n",
       "      <td>99</td>\n",
       "      <td>6.2</td>\n",
       "      <td>294.9</td>\n",
       "      <td>19.0</td>\n",
       "      <td>N</td>\n",
       "      <td>2</td>\n",
       "    </tr>\n",
       "    <tr>\n",
       "      <th>2</th>\n",
       "      <td>19.3904</td>\n",
       "      <td>-155.0554</td>\n",
       "      <td>304.1</td>\n",
       "      <td>1.0</td>\n",
       "      <td>1.0</td>\n",
       "      <td>2010-01-01</td>\n",
       "      <td>842</td>\n",
       "      <td>Terra</td>\n",
       "      <td>MODIS</td>\n",
       "      <td>59</td>\n",
       "      <td>6.2</td>\n",
       "      <td>290.6</td>\n",
       "      <td>6.6</td>\n",
       "      <td>N</td>\n",
       "      <td>2</td>\n",
       "    </tr>\n",
       "    <tr>\n",
       "      <th>3</th>\n",
       "      <td>19.3891</td>\n",
       "      <td>-155.0651</td>\n",
       "      <td>317.5</td>\n",
       "      <td>1.0</td>\n",
       "      <td>1.0</td>\n",
       "      <td>2010-01-01</td>\n",
       "      <td>842</td>\n",
       "      <td>Terra</td>\n",
       "      <td>MODIS</td>\n",
       "      <td>95</td>\n",
       "      <td>6.2</td>\n",
       "      <td>292.5</td>\n",
       "      <td>16.9</td>\n",
       "      <td>N</td>\n",
       "      <td>2</td>\n",
       "    </tr>\n",
       "    <tr>\n",
       "      <th>4</th>\n",
       "      <td>26.6319</td>\n",
       "      <td>-80.6441</td>\n",
       "      <td>310.9</td>\n",
       "      <td>1.3</td>\n",
       "      <td>1.1</td>\n",
       "      <td>2010-01-01</td>\n",
       "      <td>1555</td>\n",
       "      <td>Terra</td>\n",
       "      <td>MODIS</td>\n",
       "      <td>44</td>\n",
       "      <td>6.2</td>\n",
       "      <td>285.0</td>\n",
       "      <td>11.5</td>\n",
       "      <td>D</td>\n",
       "      <td>0</td>\n",
       "    </tr>\n",
       "  </tbody>\n",
       "</table>\n",
       "</div>"
      ],
      "text/plain": [
       "   latitude  longitude  brightness  scan  track    acq_date  acq_time  \\\n",
       "0   19.3827  -155.0442       307.0   1.0    1.0  2010-01-01       842   \n",
       "1   19.3814  -155.0539       319.8   1.0    1.0  2010-01-01       842   \n",
       "2   19.3904  -155.0554       304.1   1.0    1.0  2010-01-01       842   \n",
       "3   19.3891  -155.0651       317.5   1.0    1.0  2010-01-01       842   \n",
       "4   26.6319   -80.6441       310.9   1.3    1.1  2010-01-01      1555   \n",
       "\n",
       "  satellite instrument  confidence  version  bright_t31   frp daynight  type  \n",
       "0     Terra      MODIS          70      6.2       291.2   8.3        N     2  \n",
       "1     Terra      MODIS          99      6.2       294.9  19.0        N     2  \n",
       "2     Terra      MODIS          59      6.2       290.6   6.6        N     2  \n",
       "3     Terra      MODIS          95      6.2       292.5  16.9        N     2  \n",
       "4     Terra      MODIS          44      6.2       285.0  11.5        D     0  "
      ]
     },
     "execution_count": 19,
     "metadata": {},
     "output_type": "execute_result"
    }
   ],
   "source": [
    "# read in csv file from NASA FIRMS\n",
    "data = pd.read_csv('DL_FIRE_M6_138850/fire_archive_M6_138850.csv')\n",
    "data.head()"
   ]
  },
  {
   "cell_type": "markdown",
   "metadata": {},
   "source": [
    "Explore data set. Searching for empty or null values."
   ]
  },
  {
   "cell_type": "code",
   "execution_count": 20,
   "metadata": {},
   "outputs": [
    {
     "data": {
      "text/plain": [
       "latitude      0\n",
       "longitude     0\n",
       "brightness    0\n",
       "scan          0\n",
       "track         0\n",
       "acq_date      0\n",
       "acq_time      0\n",
       "satellite     0\n",
       "instrument    0\n",
       "confidence    0\n",
       "version       0\n",
       "bright_t31    0\n",
       "frp           0\n",
       "daynight      0\n",
       "type          0\n",
       "dtype: int64"
      ]
     },
     "execution_count": 20,
     "metadata": {},
     "output_type": "execute_result"
    }
   ],
   "source": [
    "# checking for null values\n",
    "data.isnull().sum()"
   ]
  },
  {
   "cell_type": "code",
   "execution_count": 34,
   "metadata": {},
   "outputs": [
    {
     "name": "stdout",
     "output_type": "stream",
     "text": [
      "Index(['latitude', 'longitude', 'brightness', 'scan', 'track', 'acq_date',\n",
      "       'acq_time', 'satellite', 'instrument', 'confidence', 'version',\n",
      "       'bright_t31', 'frp', 'daynight', 'type'],\n",
      "      dtype='object')\n"
     ]
    }
   ],
   "source": [
    "# print column names\n",
    "print(data.columns)"
   ]
  },
  {
   "cell_type": "code",
   "execution_count": 22,
   "metadata": {},
   "outputs": [
    {
     "data": {
      "text/html": [
       "<div>\n",
       "<style scoped>\n",
       "    .dataframe tbody tr th:only-of-type {\n",
       "        vertical-align: middle;\n",
       "    }\n",
       "\n",
       "    .dataframe tbody tr th {\n",
       "        vertical-align: top;\n",
       "    }\n",
       "\n",
       "    .dataframe thead th {\n",
       "        text-align: right;\n",
       "    }\n",
       "</style>\n",
       "<table border=\"1\" class=\"dataframe\">\n",
       "  <thead>\n",
       "    <tr style=\"text-align: right;\">\n",
       "      <th></th>\n",
       "      <th>latitude</th>\n",
       "      <th>longitude</th>\n",
       "      <th>brightness</th>\n",
       "      <th>scan</th>\n",
       "      <th>track</th>\n",
       "      <th>acq_time</th>\n",
       "      <th>confidence</th>\n",
       "      <th>version</th>\n",
       "      <th>bright_t31</th>\n",
       "      <th>frp</th>\n",
       "      <th>type</th>\n",
       "    </tr>\n",
       "  </thead>\n",
       "  <tbody>\n",
       "    <tr>\n",
       "      <th>count</th>\n",
       "      <td>1.211376e+06</td>\n",
       "      <td>1.211376e+06</td>\n",
       "      <td>1.211376e+06</td>\n",
       "      <td>1.211376e+06</td>\n",
       "      <td>1.211376e+06</td>\n",
       "      <td>1.211376e+06</td>\n",
       "      <td>1.211376e+06</td>\n",
       "      <td>1.211376e+06</td>\n",
       "      <td>1.211376e+06</td>\n",
       "      <td>1.211376e+06</td>\n",
       "      <td>1.211376e+06</td>\n",
       "    </tr>\n",
       "    <tr>\n",
       "      <th>mean</th>\n",
       "      <td>3.876508e+01</td>\n",
       "      <td>-1.055303e+02</td>\n",
       "      <td>3.253418e+02</td>\n",
       "      <td>1.618142e+00</td>\n",
       "      <td>1.213772e+00</td>\n",
       "      <td>1.649478e+03</td>\n",
       "      <td>6.817348e+01</td>\n",
       "      <td>6.208855e+00</td>\n",
       "      <td>2.954737e+02</td>\n",
       "      <td>6.665715e+01</td>\n",
       "      <td>9.330464e-02</td>\n",
       "    </tr>\n",
       "    <tr>\n",
       "      <th>std</th>\n",
       "      <td>9.831400e+00</td>\n",
       "      <td>2.130592e+01</td>\n",
       "      <td>2.372306e+01</td>\n",
       "      <td>8.193472e-01</td>\n",
       "      <td>2.497850e-01</td>\n",
       "      <td>5.012529e+02</td>\n",
       "      <td>2.281770e+01</td>\n",
       "      <td>2.840904e-02</td>\n",
       "      <td>9.584785e+00</td>\n",
       "      <td>2.132645e+02</td>\n",
       "      <td>4.236639e-01</td>\n",
       "    </tr>\n",
       "    <tr>\n",
       "      <th>min</th>\n",
       "      <td>1.898230e+01</td>\n",
       "      <td>-1.739637e+02</td>\n",
       "      <td>3.000000e+02</td>\n",
       "      <td>1.000000e+00</td>\n",
       "      <td>1.000000e+00</td>\n",
       "      <td>0.000000e+00</td>\n",
       "      <td>0.000000e+00</td>\n",
       "      <td>6.200000e+00</td>\n",
       "      <td>2.645000e+02</td>\n",
       "      <td>-5.920000e+01</td>\n",
       "      <td>0.000000e+00</td>\n",
       "    </tr>\n",
       "    <tr>\n",
       "      <th>25%</th>\n",
       "      <td>3.237980e+01</td>\n",
       "      <td>-1.187433e+02</td>\n",
       "      <td>3.103000e+02</td>\n",
       "      <td>1.100000e+00</td>\n",
       "      <td>1.000000e+00</td>\n",
       "      <td>1.627000e+03</td>\n",
       "      <td>5.400000e+01</td>\n",
       "      <td>6.200000e+00</td>\n",
       "      <td>2.898000e+02</td>\n",
       "      <td>1.090000e+01</td>\n",
       "      <td>0.000000e+00</td>\n",
       "    </tr>\n",
       "    <tr>\n",
       "      <th>50%</th>\n",
       "      <td>3.666230e+01</td>\n",
       "      <td>-9.824200e+01</td>\n",
       "      <td>3.189000e+02</td>\n",
       "      <td>1.300000e+00</td>\n",
       "      <td>1.100000e+00</td>\n",
       "      <td>1.836000e+03</td>\n",
       "      <td>6.900000e+01</td>\n",
       "      <td>6.200000e+00</td>\n",
       "      <td>2.951000e+02</td>\n",
       "      <td>2.250000e+01</td>\n",
       "      <td>0.000000e+00</td>\n",
       "    </tr>\n",
       "    <tr>\n",
       "      <th>75%</th>\n",
       "      <td>4.329170e+01</td>\n",
       "      <td>-8.900940e+01</td>\n",
       "      <td>3.325000e+02</td>\n",
       "      <td>1.900000e+00</td>\n",
       "      <td>1.300000e+00</td>\n",
       "      <td>1.940000e+03</td>\n",
       "      <td>8.600000e+01</td>\n",
       "      <td>6.200000e+00</td>\n",
       "      <td>3.005000e+02</td>\n",
       "      <td>5.300000e+01</td>\n",
       "      <td>0.000000e+00</td>\n",
       "    </tr>\n",
       "    <tr>\n",
       "      <th>max</th>\n",
       "      <td>7.032110e+01</td>\n",
       "      <td>-6.700420e+01</td>\n",
       "      <td>5.065000e+02</td>\n",
       "      <td>4.800000e+00</td>\n",
       "      <td>2.000000e+00</td>\n",
       "      <td>2.359000e+03</td>\n",
       "      <td>1.000000e+02</td>\n",
       "      <td>6.300000e+00</td>\n",
       "      <td>4.001000e+02</td>\n",
       "      <td>1.437650e+04</td>\n",
       "      <td>3.000000e+00</td>\n",
       "    </tr>\n",
       "  </tbody>\n",
       "</table>\n",
       "</div>"
      ],
      "text/plain": [
       "           latitude     longitude    brightness          scan         track  \\\n",
       "count  1.211376e+06  1.211376e+06  1.211376e+06  1.211376e+06  1.211376e+06   \n",
       "mean   3.876508e+01 -1.055303e+02  3.253418e+02  1.618142e+00  1.213772e+00   \n",
       "std    9.831400e+00  2.130592e+01  2.372306e+01  8.193472e-01  2.497850e-01   \n",
       "min    1.898230e+01 -1.739637e+02  3.000000e+02  1.000000e+00  1.000000e+00   \n",
       "25%    3.237980e+01 -1.187433e+02  3.103000e+02  1.100000e+00  1.000000e+00   \n",
       "50%    3.666230e+01 -9.824200e+01  3.189000e+02  1.300000e+00  1.100000e+00   \n",
       "75%    4.329170e+01 -8.900940e+01  3.325000e+02  1.900000e+00  1.300000e+00   \n",
       "max    7.032110e+01 -6.700420e+01  5.065000e+02  4.800000e+00  2.000000e+00   \n",
       "\n",
       "           acq_time    confidence       version    bright_t31           frp  \\\n",
       "count  1.211376e+06  1.211376e+06  1.211376e+06  1.211376e+06  1.211376e+06   \n",
       "mean   1.649478e+03  6.817348e+01  6.208855e+00  2.954737e+02  6.665715e+01   \n",
       "std    5.012529e+02  2.281770e+01  2.840904e-02  9.584785e+00  2.132645e+02   \n",
       "min    0.000000e+00  0.000000e+00  6.200000e+00  2.645000e+02 -5.920000e+01   \n",
       "25%    1.627000e+03  5.400000e+01  6.200000e+00  2.898000e+02  1.090000e+01   \n",
       "50%    1.836000e+03  6.900000e+01  6.200000e+00  2.951000e+02  2.250000e+01   \n",
       "75%    1.940000e+03  8.600000e+01  6.200000e+00  3.005000e+02  5.300000e+01   \n",
       "max    2.359000e+03  1.000000e+02  6.300000e+00  4.001000e+02  1.437650e+04   \n",
       "\n",
       "               type  \n",
       "count  1.211376e+06  \n",
       "mean   9.330464e-02  \n",
       "std    4.236639e-01  \n",
       "min    0.000000e+00  \n",
       "25%    0.000000e+00  \n",
       "50%    0.000000e+00  \n",
       "75%    0.000000e+00  \n",
       "max    3.000000e+00  "
      ]
     },
     "execution_count": 22,
     "metadata": {},
     "output_type": "execute_result"
    }
   ],
   "source": [
    "data.describe()"
   ]
  },
  {
   "cell_type": "code",
   "execution_count": 23,
   "metadata": {},
   "outputs": [
    {
     "name": "stdout",
     "output_type": "stream",
     "text": [
      "<class 'pandas.core.frame.DataFrame'>\n",
      "RangeIndex: 1211376 entries, 0 to 1211375\n",
      "Data columns (total 15 columns):\n",
      " #   Column      Non-Null Count    Dtype  \n",
      "---  ------      --------------    -----  \n",
      " 0   latitude    1211376 non-null  float64\n",
      " 1   longitude   1211376 non-null  float64\n",
      " 2   brightness  1211376 non-null  float64\n",
      " 3   scan        1211376 non-null  float64\n",
      " 4   track       1211376 non-null  float64\n",
      " 5   acq_date    1211376 non-null  object \n",
      " 6   acq_time    1211376 non-null  int64  \n",
      " 7   satellite   1211376 non-null  object \n",
      " 8   instrument  1211376 non-null  object \n",
      " 9   confidence  1211376 non-null  int64  \n",
      " 10  version     1211376 non-null  float64\n",
      " 11  bright_t31  1211376 non-null  float64\n",
      " 12  frp         1211376 non-null  float64\n",
      " 13  daynight    1211376 non-null  object \n",
      " 14  type        1211376 non-null  int64  \n",
      "dtypes: float64(8), int64(3), object(4)\n",
      "memory usage: 138.6+ MB\n"
     ]
    }
   ],
   "source": [
    "data.info()"
   ]
  },
  {
   "cell_type": "code",
   "execution_count": 36,
   "metadata": {},
   "outputs": [
    {
     "data": {
      "text/html": [
       "<div>\n",
       "<style scoped>\n",
       "    .dataframe tbody tr th:only-of-type {\n",
       "        vertical-align: middle;\n",
       "    }\n",
       "\n",
       "    .dataframe tbody tr th {\n",
       "        vertical-align: top;\n",
       "    }\n",
       "\n",
       "    .dataframe thead th {\n",
       "        text-align: right;\n",
       "    }\n",
       "</style>\n",
       "<table border=\"1\" class=\"dataframe\">\n",
       "  <thead>\n",
       "    <tr style=\"text-align: right;\">\n",
       "      <th></th>\n",
       "      <th>min</th>\n",
       "      <th>max</th>\n",
       "    </tr>\n",
       "  </thead>\n",
       "  <tbody>\n",
       "    <tr>\n",
       "      <th>latitude</th>\n",
       "      <td>18.9823</td>\n",
       "      <td>70.3211</td>\n",
       "    </tr>\n",
       "    <tr>\n",
       "      <th>longitude</th>\n",
       "      <td>-173.964</td>\n",
       "      <td>-67.0042</td>\n",
       "    </tr>\n",
       "    <tr>\n",
       "      <th>brightness</th>\n",
       "      <td>300</td>\n",
       "      <td>506.5</td>\n",
       "    </tr>\n",
       "    <tr>\n",
       "      <th>scan</th>\n",
       "      <td>1</td>\n",
       "      <td>4.8</td>\n",
       "    </tr>\n",
       "    <tr>\n",
       "      <th>track</th>\n",
       "      <td>1</td>\n",
       "      <td>2</td>\n",
       "    </tr>\n",
       "    <tr>\n",
       "      <th>acq_date</th>\n",
       "      <td>2010-01-01</td>\n",
       "      <td>2020-01-01</td>\n",
       "    </tr>\n",
       "    <tr>\n",
       "      <th>acq_time</th>\n",
       "      <td>0</td>\n",
       "      <td>2359</td>\n",
       "    </tr>\n",
       "    <tr>\n",
       "      <th>satellite</th>\n",
       "      <td>Aqua</td>\n",
       "      <td>Terra</td>\n",
       "    </tr>\n",
       "    <tr>\n",
       "      <th>instrument</th>\n",
       "      <td>MODIS</td>\n",
       "      <td>MODIS</td>\n",
       "    </tr>\n",
       "    <tr>\n",
       "      <th>confidence</th>\n",
       "      <td>0</td>\n",
       "      <td>100</td>\n",
       "    </tr>\n",
       "    <tr>\n",
       "      <th>version</th>\n",
       "      <td>6.2</td>\n",
       "      <td>6.3</td>\n",
       "    </tr>\n",
       "    <tr>\n",
       "      <th>bright_t31</th>\n",
       "      <td>264.5</td>\n",
       "      <td>400.1</td>\n",
       "    </tr>\n",
       "    <tr>\n",
       "      <th>frp</th>\n",
       "      <td>-59.2</td>\n",
       "      <td>14376.5</td>\n",
       "    </tr>\n",
       "    <tr>\n",
       "      <th>daynight</th>\n",
       "      <td>D</td>\n",
       "      <td>N</td>\n",
       "    </tr>\n",
       "    <tr>\n",
       "      <th>type</th>\n",
       "      <td>0</td>\n",
       "      <td>3</td>\n",
       "    </tr>\n",
       "  </tbody>\n",
       "</table>\n",
       "</div>"
      ],
      "text/plain": [
       "                   min         max\n",
       "latitude       18.9823     70.3211\n",
       "longitude     -173.964    -67.0042\n",
       "brightness         300       506.5\n",
       "scan                 1         4.8\n",
       "track                1           2\n",
       "acq_date    2010-01-01  2020-01-01\n",
       "acq_time             0        2359\n",
       "satellite         Aqua       Terra\n",
       "instrument       MODIS       MODIS\n",
       "confidence           0         100\n",
       "version            6.2         6.3\n",
       "bright_t31       264.5       400.1\n",
       "frp              -59.2     14376.5\n",
       "daynight             D           N\n",
       "type                 0           3"
      ]
     },
     "execution_count": 36,
     "metadata": {},
     "output_type": "execute_result"
    }
   ],
   "source": [
    "data.agg([min, max]).T"
   ]
  },
  {
   "cell_type": "markdown",
   "metadata": {},
   "source": [
    "Checking individual rows to drop or encode"
   ]
  },
  {
   "cell_type": "code",
   "execution_count": 28,
   "metadata": {},
   "outputs": [
    {
     "data": {
      "text/plain": [
       "count     1211376\n",
       "unique          2\n",
       "top          Aqua\n",
       "freq       638838\n",
       "Name: satellite, dtype: object"
      ]
     },
     "execution_count": 28,
     "metadata": {},
     "output_type": "execute_result"
    }
   ],
   "source": [
    "# column can be encoded. Describes total of 2 satellites making recordings\n",
    "data['satellite'].describe()"
   ]
  },
  {
   "cell_type": "code",
   "execution_count": 29,
   "metadata": {},
   "outputs": [
    {
     "data": {
      "text/plain": [
       "count     1211376\n",
       "unique          1\n",
       "top         MODIS\n",
       "freq      1211376\n",
       "Name: instrument, dtype: object"
      ]
     },
     "execution_count": 29,
     "metadata": {},
     "output_type": "execute_result"
    }
   ],
   "source": [
    "# column can be dropped. Describes collection method which is uniform for dataset.\n",
    "data['instrument'].describe()"
   ]
  },
  {
   "cell_type": "code",
   "execution_count": 35,
   "metadata": {},
   "outputs": [
    {
     "data": {
      "text/plain": [
       "count     1211376\n",
       "unique          2\n",
       "top             D\n",
       "freq       978394\n",
       "Name: daynight, dtype: object"
      ]
     },
     "execution_count": 35,
     "metadata": {},
     "output_type": "execute_result"
    }
   ],
   "source": [
    "# column can be encoded. Describes datapoint from day or night. Can be checked against time column.\n",
    "data['daynight'].describe()"
   ]
  },
  {
   "cell_type": "code",
   "execution_count": 31,
   "metadata": {},
   "outputs": [
    {
     "data": {
      "text/plain": [
       "array([2, 0, 3, 1], dtype=int64)"
      ]
     },
     "execution_count": 31,
     "metadata": {},
     "output_type": "execute_result"
    }
   ],
   "source": [
    "# column is not described in provided key. Will not be dropped at this time.\n",
    "data['type'].unique()"
   ]
  },
  {
   "cell_type": "code",
   "execution_count": 32,
   "metadata": {},
   "outputs": [
    {
     "data": {
      "text/plain": [
       "array([6.2, 6.3])"
      ]
     },
     "execution_count": 32,
     "metadata": {},
     "output_type": "execute_result"
    }
   ],
   "source": [
    "# column requires further investigation.\n",
    "data['version'].unique()"
   ]
  }
 ],
 "metadata": {
  "kernelspec": {
   "display_name": "Python 3",
   "language": "python",
   "name": "python3"
  },
  "language_info": {
   "codemirror_mode": {
    "name": "ipython",
    "version": 3
   },
   "file_extension": ".py",
   "mimetype": "text/x-python",
   "name": "python",
   "nbconvert_exporter": "python",
   "pygments_lexer": "ipython3",
   "version": "3.7.4"
  }
 },
 "nbformat": 4,
 "nbformat_minor": 2
}
